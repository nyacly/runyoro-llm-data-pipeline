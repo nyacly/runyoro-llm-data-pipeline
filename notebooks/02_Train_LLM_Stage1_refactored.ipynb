{
 "cells": [
  {
   "cell_type": "markdown",
   "id": "21d44d19",
   "metadata": {},
   "source": [
    "# LLM Training - Stage 1\n",
    "Run the initial training of the model using GPU resources from Google Colab."
   ]
  },
  {
   "cell_type": "code",
   "execution_count": null,
   "id": "d6bfbdff",
   "metadata": {},
   "outputs": [],
   "source": [
    "# Clone the repository and change directory\n",
    "import os, pathlib, subprocess\n",
    "repo_name = \"runyoro-llm-data-pipeline\"\n",
    "if not (pathlib.Path.cwd() / repo_name).exists():\n",
    "    subprocess.run([\"git\", \"clone\", f\"https://github.com/nyacly/{repo_name}.git\"])",
    "    os.chdir(repo_name)",
    "else:\n",
    "    os.chdir(repo_name)",
    "    print(f\"Already in {repo_name} directory\")"
   ]
  },
  {
   "cell_type": "code",
   "execution_count": null,
   "id": "c54348ef",
   "metadata": {},
   "outputs": [],
   "source": [
    "# Install dependencies\n",
    "!pip install -r requirements.txt\n",
    "!accelerate config"
   ]
  },
  {
   "cell_type": "code",
   "execution_count": null,
   "id": "406270e6",
   "metadata": {},
   "outputs": [],
   "source": [
    "# Mount Google Drive to load processed data and save models (Optional, uncomment if needed)",
    "# try:\n",
    "#     from google.colab import drive\n",
    "#     drive.mount(\"/content/drive\")\n",
    "# except Exception as e:\n",
    "#     print(\"Google Drive not mounted:\", e)"
   ]
  },
  {
   "cell_type": "code",
   "execution_count": null,
   "id": "prepare_data",
   "metadata": {},
   "outputs": [],
   "source": [
    "# Create a small dummy dataset for testing (remove for actual training with real data)",
    "import os, pathlib\n",
    "dummy_dir = pathlib.Path(\"/tmp/dummy_text\")\n",
    "dummy_dir.mkdir(parents=True, exist_ok=True)\n",
    "with open(dummy_dir / \"sample.txt\", \"w\") as f:\n",
    "    for i in range(10):\n",
    "        f.write(f\"Dummy sentence {i}\\\\n\")\n",
    "print(\"Dummy data created at\", dummy_dir)"
   ]
  },
  {
   "cell_type": "code",
   "execution_count": null,
   "id": "4363de9f",
   "metadata": {},
   "outputs": [],
   "source": [
    "# Training command\n",
    "# IMPORTANT: For actual training, change --processed_data_path to your real data path (e.g., ./processed_data/processed_text)",
    "!python3 -m scripts.train_llm --processed_data_path /tmp/dummy_text --model_name google/mt5-small --output_dir ./models/runyoro_llm_model --tokenizer_dir ./tokenizer --checkpoint_dir /tmp/runyoro_checkpoints --num_train_epochs 1 --per_device_train_batch_size 1 --gradient_accumulation_steps 8"
   ]
  }
 ],
 "metadata": {
  "kernelspec": {
   "display_name": "Python 3",
   "language": "python",
   "name": "python3"
  },
  "language_info": {
   "name": "python",
   "version": "3.x"
  }
 },
 "nbformat": 4,
 "nbformat_minor": 5
}


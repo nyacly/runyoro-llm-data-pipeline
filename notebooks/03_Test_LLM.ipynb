{
 "cells": [
  {
   "cell_type": "markdown",
   "metadata": {},
   "source": [
    "# Test Trained LLM\n",
    "Generate text from the model trained in the previous step."
   ]
  },
  {
   "cell_type": "code",
   "metadata": {},
   "execution_count": null,
   "outputs": [],
   "source": [
    "# Clone repository if needed\n",
    "!git clone https://github.com/nyacly/runyoro-llm-data-pipeline.git || true\n",
    "%cd runyoro-llm-data-pipeline"
   ]
  },
  {
   "cell_type": "code",
   "metadata": {},
   "execution_count": null,
   "outputs": [],
   "source": [
    "# Install dependencies\n",
    "!pip install -r requirements.txt\n"
   ]
  },
  {
   "cell_type": "code",
   "metadata": {},
   "execution_count": null,
   "outputs": [],
   "source": [
    "# Load the model and generate text\n",
    "!python3 scripts/test_llm.py \\
        --model_path ./models/runyoro_llm_model/final_model \\
        --prompt 'Ekiro kyona' \\
        --max_new_tokens 100"
   ]
  }
 ],
 "metadata": {
  "kernelspec": {
   "display_name": "Python 3",
   "language": "python",
   "name": "python3"
  },
  "language_info": {
   "name": "python",
   "version": "3.x"
  }
 },
 "nbformat": 4,
 "nbformat_minor": 5
}

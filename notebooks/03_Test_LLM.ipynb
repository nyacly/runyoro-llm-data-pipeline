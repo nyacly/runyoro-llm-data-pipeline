{
 "cells": [
  {
   "cell_type": "markdown",
   "id": "82190ef9",
   "metadata": {},
   "source": [
    "# Test Trained LLM\n",
    "Generate text from the model trained in the previous step."
   ]
  },
  {
   "cell_type": "code",
   "execution_count": null,
   "id": "334369b9",
   "metadata": {},
   "outputs": [],
   "source": [
    "# Clone repository if needed\n",
    "!git clone https://github.com/nyacly/runyoro-llm-data-pipeline.git || true\n",
    "%cd runyoro-llm-data-pipeline"
   ]
  },
  {
   "cell_type": "code",
   "execution_count": null,
   "id": "1a8c7e53",
   "metadata": {},
   "outputs": [],
   "source": [
    "# Install dependencies\n",
    "!pip install -r requirements.txt"
   ]
  },
  {
   "cell_type": "code",
   "execution_count": null,
   "id": "e1c4e766",
   "metadata": {},
   "outputs": [],
   "source": [
    "# Mount Google Drive to load models\n",
    "from google.colab import drive\n",
    "drive.mount('/content/drive')"
   ]
  },
  {
   "cell_type": "code",
   "execution_count": null,
   "id": "215e9a28",
   "metadata": {},
   "outputs": [],
   "source": [
    "# Load the model and generate text\n",
    "!python3 scripts/test_llm.py \\\n",
    "    --model_path ./models/runyoro_llm_model/final_model \\\n",
    "    --prompt 'Ekiro kyona' \\\n",
    "    --max_new_tokens 100"
   ]
  }
 ],
 "metadata": {
  "kernelspec": {
   "display_name": "Python 3",
   "language": "python",
   "name": "python3"
  },
  "language_info": {
   "name": "python",
   "version": "3.x"
  }
 },
 "nbformat": 4,
 "nbformat_minor": 5
}

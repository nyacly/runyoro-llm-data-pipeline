{
 "cells": [
  {
   "cell_type": "markdown",
   "metadata": {},
   "source": [
    "# Runyoro/Rutooro Data Processing\n",
    "This notebook prepares your data for model training."
   ]
  },
  {
   "cell_type": "code",
   "metadata": {},
   "execution_count": null,
   "outputs": [],
   "source": [
    "# Clone repository\n",
    "!git clone https://github.com/nyacly/runyoro-llm-data-pipeline.git\n",
    "%cd runyoro-llm-data-pipeline"
   ]
  },
  {
   "cell_type": "code",
   "metadata": {},
   "execution_count": null,
   "outputs": [],
   "source": [
    "# Install Python and system dependencies\n",
    "!pip install -r requirements.txt\n",
    "!sudo apt-get update\n",
    "!sudo apt-get install -y poppler-utils tesseract-ocr ffmpeg"
   ]
  },
  {
   "cell_type": "code",
   "metadata": {},
   "execution_count": null,
   "outputs": [],
   "source": [
    "# (Optional) Mount Google Drive to access data\n",
    "from google.colab import drive\n",
    "drive.mount('/content/drive')"
   ]
  },
  {
   "cell_type": "code",
   "metadata": {},
   "execution_count": null,
   "outputs": [],
   "source": [
    "# Run data processing\n",
    "!python3 -m scripts.process_raw_data"
   ]
  }
 ],
 "metadata": {
  "kernelspec": {
   "display_name": "Python 3",
   "language": "python",
   "name": "python3"
  },
  "language_info": {
   "name": "python",
   "version": "3.x"
  }
 },
 "nbformat": 4,
 "nbformat_minor": 5
}
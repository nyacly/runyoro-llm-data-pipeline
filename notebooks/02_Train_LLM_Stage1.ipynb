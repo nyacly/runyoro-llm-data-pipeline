{
 "cells": [
  {
   "cell_type": "markdown",
   "id": "21d44d19",
   "metadata": {},
   "source": [
    "# LLM Training - Stage 1\n",
    "Run the initial training of the model using GPU resources from Google Colab."
   ]
  },
  {
   "cell_type": "code",
   "execution_count": null,
   "id": "d6bfbdff",
   "metadata": {},
   "outputs": [],
   "source": [
    "# Clone the repository and change directory\n",
    "import os, pathlib, subprocess\n",
    "repo_name = \"runyoro-llm-data-pipeline\"\n",
    "if not (pathlib.Path.cwd() / repo_name).exists():\n",
    "    subprocess.run([\"git\", \"clone\", f\"https://github.com/nyacly/{repo_name}.git\"])",
    "    os.chdir(repo_name)",
    "else:\n",
    "    os.chdir(repo_name)",
    "    print(f\"Already in {repo_name} directory\")"
   ]
  },
  {
   "cell_type": "code",
   "execution_count": null,
   "id": "c54348ef",
   "metadata": {},
   "outputs": [],
   "source": [
    "# Install dependencies\n",
    "!pip install -r requirements.txt\n",
    "!accelerate config"
   ]
  },
  {
   "cell_type": "code",
   "execution_count": null,
   "id": "4363de9f",
   "metadata": {},
   "outputs": [],
   "source": [
    "# Training command\n",
    "# IMPORTANT: Ensure your processed data is available at the specified path.\n",
    "!python3 -m scripts.train_llm --processed_data_path ./processed_data/processed_text --model_name google/mt5-small --output_dir ./models/runyoro_llm_model --tokenizer_dir ./tokenizer --checkpoint_dir /tmp/runyoro_checkpoints --num_train_epochs 1 --per_device_train_batch_size 1 --gradient_accumulation_steps 8"
   ]
  }
 ],
 "metadata": {
  "kernelspec": {
   "display_name": "Python 3",
   "language": "python",
   "name": "python3"
  },
  "language_info": {
   "name": "python",
   "version": "3.x"
  }
 },
 "nbformat": 4,
 "nbformat_minor": 5
}


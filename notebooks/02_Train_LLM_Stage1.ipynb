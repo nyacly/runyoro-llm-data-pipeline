{
  "cells": [
    {
      "cell_type": "markdown",
      "id": "21d44d19",
      "metadata": {},
      "source": [
        "# LLM Training - Stage 1\n",
        "Run the initial training of the model using GPU resources from Google Colab."
      ]
    },
    {
      "cell_type": "code",
      "execution_count": null,
      "id": "d6bfbdff",
      "metadata": {},
      "outputs": [],
      "source": [
        "from google.colab import drive\n",
        "import os, pathlib, subprocess\n",
        "\n",
        "drive.mount('/content/drive', force_remount=True)\n",
        "\n",
        "repo_path = pathlib.Path('/content/drive/MyDrive/Runyoro_AI_Project/runyoro-llm-data-pipeline')\n",
        "if repo_path.exists():\n",
        "    os.chdir(repo_path)\n",
        "    print(f'Using existing repo at {repo_path}')\n",
        "else:\n",
        "    subprocess.run(['git', 'clone', 'https://github.com/nyacly/runyoro-llm-data-pipeline.git', str(repo_path)])\n",
        "    os.chdir(repo_path)\n"
      ]
    },
    {
      "cell_type": "code",
      "execution_count": null,
      "id": "c54348ef",
      "metadata": {},
      "outputs": [],
      "source": [
        "!accelerate config default"
      ]
    },
    {
      "cell_type": "code",
      "execution_count": null,
      "id": "4363de9f",
      "metadata": {},
      "outputs": [],
      "source": [
        "# Training command\n",
        "# IMPORTANT: Ensure your processed data is available at the specified path.\n",
        "!python3 -m scripts.train_llm --processed_data_path ./processed_data/processed_text --model_name google/mt5-small --output_dir ./models/runyoro_llm_model --tokenizer_dir ./tokenizer --checkpoint_dir /tmp/runyoro_checkpoints --num_train_epochs 1 --per_device_train_batch_size 1 --gradient_accumulation_steps 8"
      ]
    }
  ],
  "metadata": {
    "kernelspec": {
      "display_name": "Python 3",
      "language": "python",
      "name": "python3"
    },
    "language_info": {
      "name": "python",
      "version": "3.x"
    }
  },
  "nbformat": 4,
  "nbformat_minor": 5
}
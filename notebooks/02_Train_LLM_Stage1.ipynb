{
 "cells": [
  {
   "cell_type": "markdown",
   "id": "21d44d19",
   "metadata": {},
   "source": [
    "# LLM Training - Stage 1\n",
    "Run the initial training of the model using GPU resources from Google Colab."
   ]
  },
  {
   "cell_type": "code",
   "execution_count": null,
   "id": "d6bfbdff",
   "metadata": {},
   "outputs": [],
   "source": [
    "# Clone repository if not already cloned\n",
    "!git clone https://github.com/nyacly/runyoro-llm-data-pipeline.git || true\n",
    "%cd runyoro-llm-data-pipeline"
   ]
  },
  {
   "cell_type": "code",
   "execution_count": null,
   "id": "c54348ef",
   "metadata": {},
   "outputs": [],
   "source": [
    "# Install dependencies\n",
    "!pip install -r requirements.txt"
   ]
  },
  {
   "cell_type": "code",
   "execution_count": null,
   "id": "406270e6",
   "metadata": {},
   "outputs": [],
   "source": [
    "# Mount Google Drive to load processed data and save models\n",
    "from google.colab import drive\n",
    "drive.mount('/content/drive')"
   ]
  },
  {
   "cell_type": "code",
   "execution_count": null,
   "id": "4363de9f",
   "metadata": {},
   "outputs": [],
   "source": [
    "# Adjust the paths below if your data/model directories are in Drive\n",
    "!python3 scripts/train_llm.py \\\n",
    "    --processed_data_path ./processed_data/processed_text \\\n",
    "    --model_name gpt2 \\\n",
    "    --output_dir ./models/runyoro_llm_model \\\n",
    "    --tokenizer_dir ./tokenizer"
   ]
  }
 ],
 "metadata": {
  "kernelspec": {
   "display_name": "Python 3",
   "language": "python",
   "name": "python3"
  },
  "language_info": {
   "name": "python",
   "version": "3.x"
  }
 },
 "nbformat": 4,
 "nbformat_minor": 5
}

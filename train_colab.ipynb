{
  "cells": [
    {
      "cell_type": "code",
      "metadata": {},
      "source": [
        "!pip install --upgrade transformers datasets accelerate bitsandbytes peft"
      ],
      "execution_count": null,
      "outputs": []
    },
    {
      "cell_type": "code",
      "metadata": {},
      "source": [
        "import os, sys, IPython\n",
        "print('Restarting runtime for new libraries\u2026')\n",
        "IPython.Application.instance().kernel.do_shutdown(restart=True)"
      ],
      "execution_count": null,
      "outputs": []
    },
    {
      "cell_type": "code",
      "metadata": {},
      "source": [
        "from google.colab import drive\n",
        "drive.mount('/content/drive', force_remount=True)"
      ],
      "execution_count": null,
      "outputs": []
    },
    {
      "cell_type": "code",
      "metadata": {},
      "source": [
        "%cd /content/drive/MyDrive/Runyoro_AI_Project/runyoro-llm-data-pipeline"
      ],
      "execution_count": null,
      "outputs": []
    },
    {
      "cell_type": "code",
      "metadata": {},
      "source": [
        "# (After changing the runtime to GPU via Runtime \u2192 Change runtime type \u2192 GPU)\n",
        "!nvidia-smi\n",
        "\n",
        "!accelerate config default\n",
        "!accelerate launch --config_file ~/.cache/huggingface/accelerate/default_config.yaml \\\n  scripts/train_llm.py \\\n    --processed_data_path processed_data/processed_text \\\n    --model_name_or_path google/mt5-small \\\n    --output_dir models/runyoro_llm_model \\\n    --num_train_epochs 3 \\\n    --per_device_train_batch_size 4 \\\n    --block_size 512\n"
      ],
      "execution_count": null,
      "outputs": []
    },
    {
      "cell_type": "code",
      "metadata": {},
      "source": [
        "!python3 scripts/test_llm.py \\\n    --model_path ./models/runyoro_llm_model_v2/final_model \\\n    --prompt 'Abaana ba Runyoro bagamba nti' \\\n    --max_new_tokens 100"
      ],
      "execution_count": null,
      "outputs": []
    }
  ],
  "metadata": {
    "kernelspec": {
      "display_name": "Python 3",
      "name": "python3"
    },
    "language_info": {
      "name": "python"
    }
  },
  "nbformat": 4,
  "nbformat_minor": 2
}
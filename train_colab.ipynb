{
 "cells": [
  {
   "cell_type": "code",
   "metadata": {},
   "source": ["from google.colab import drive\n", "drive.mount('/content/drive', force_remount=True)"]
  },
  {
   "cell_type": "code",
   "metadata": {},
   "source": ["%cd /content/drive/MyDrive/Runyoro_AI_Project/runyoro-llm-data-pipeline"]
  },
  {
   "cell_type": "code",
   "metadata": {},
   "source": ["!python3 setup_env.py\n", "!python3 -m scripts.train_llm \\\n    --processed_data_path ./processed_data/processed_text \\\n    --model_name gpt2 \\\n    --output_dir ./models/runyoro_llm_model_v2 \\\n    --tokenizer_dir ./tokenizer"]
  },
  {
   "cell_type": "code",
   "metadata": {},
   "source": ["!python3 scripts/test_llm.py \\\n    --model_path ./models/runyoro_llm_model_v2/final_model \\\n    --prompt 'Abaana ba Runyoro bagamba nti' \\\n    --max_new_tokens 100"]
  }
 ],
 "metadata": {
  "kernelspec": {
   "display_name": "Python 3",
   "name": "python3"
  },
  "language_info": {
   "name": "python"
  }
 },
 "nbformat": 4,
 "nbformat_minor": 2
}

